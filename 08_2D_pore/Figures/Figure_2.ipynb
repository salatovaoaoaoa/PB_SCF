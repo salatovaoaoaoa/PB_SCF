{
 "cells": [
  {
   "cell_type": "code",
   "execution_count": 1,
   "metadata": {},
   "outputs": [
    {
     "name": "stderr",
     "output_type": "stream",
     "text": [
      "INFO:root:Конфигурация успешно загружена из /home/tpopova/prj/PB_SCF/08_2D_pore/py_files/config.yaml\n"
     ]
    }
   ],
   "source": [
    "import sys\n",
    "import numpy as np\n",
    "import matplotlib.pyplot as plt\n",
    "from scipy.interpolate import griddata\n",
    "\n",
    "sys.path.append('/home/tpopova/prj/PB_SCF/08_2D_pore/py_files')\n",
    "sys.path.append('/home/tpopova/prj/PB_SCF/01_dendrone_pore/py_files')\n",
    "\n",
    "import config_loader\n",
    "from out_reader import out_reader, get_profiles_by_y_or_x\n",
    "from dendrons_pore import dendrons_pore"
   ]
  },
  {
   "cell_type": "markdown",
   "metadata": {},
   "source": [
    "# График сравнения теории и намикса: электростатический потенциал и профиль плотности полимера"
   ]
  },
  {
   "cell_type": "markdown",
   "metadata": {},
   "source": [
    "Параметры"
   ]
  },
  {
   "cell_type": "code",
   "execution_count": 9,
   "metadata": {},
   "outputs": [],
   "source": [
    "N = 100\n",
    "S = 50\n",
    "D = 75\n",
    "valence = -0.5\n",
    "\n",
    "# Для 2D\n",
    "L_pore = 120\n",
    "space = 15\n",
    "L_wall = 30\n",
    "\n",
    "Cs = 0.001\n",
    "chi_solv = 0.5\n",
    "chi_surf = 0"
   ]
  },
  {
   "cell_type": "markdown",
   "metadata": {},
   "source": [
    "# Теория"
   ]
  },
  {
   "cell_type": "code",
   "execution_count": 10,
   "metadata": {},
   "outputs": [
    {
     "name": "stdout",
     "output_type": "stream",
     "text": [
      "100 942.4777960769379 [62.63291954]\n"
     ]
    }
   ],
   "source": [
    "N, n, theta, H, r_in_dendrons, r_out_dendrons, psi_in_dendrons, psi_out_dendrons, c_pol_dendrons, _ = dendrons_pore(\n",
    "    Cs = Cs,\n",
    "    \n",
    "    #параметры щетки\n",
    "    alpha = abs(valence),\n",
    "    S = S,\n",
    "    \n",
    "    #параметры поры\n",
    "    D = D,\n",
    "    N_opt = N,\n",
    "    \n",
    ")\n",
    "\n",
    "print(N, theta, H)"
   ]
  },
  {
   "cell_type": "markdown",
   "metadata": {},
   "source": [
    "# Namics 2D"
   ]
  },
  {
   "cell_type": "code",
   "execution_count": 11,
   "metadata": {},
   "outputs": [
    {
     "name": "stderr",
     "output_type": "stream",
     "text": [
      "INFO:root:Конфигурация успешно загружена из /home/tpopova/prj/PB_SCF/08_2D_pore/py_files/config.yaml\n",
      "INFO:root:Обновление параметра Cs на 0.001\n",
      "INFO:root:Обновление параметра D на 75\n",
      "INFO:root:Обновление параметра L_pore на 150\n",
      "INFO:root:Обновление параметра L_wall на 30\n",
      "INFO:root:Обновление параметра N на 100\n",
      "INFO:root:Обновление параметра S на 50\n",
      "INFO:root:Обновление параметра chi_solv на 0.5\n",
      "INFO:root:Обновление параметра chi_surf на 0\n",
      "INFO:root:Обновление параметра max_val на 0.1\n",
      "INFO:root:Обновление параметра min_val на 0.1\n",
      "INFO:root:Обновление параметра output_dir на 2D_pore_in_files_fig2\n",
      "INFO:root:Обновление параметра range_param на Cs\n",
      "INFO:root:Обновление параметра space на 30\n",
      "INFO:root:Обновление параметра target_dir на /home/tpopova/prj/PB_SCF/08_2D_pore/scf_templates\n",
      "INFO:root:Обновление параметра valence на -0.5\n",
      "INFO:root:Конфигурация успешно сохранена в /home/tpopova/prj/PB_SCF/08_2D_pore/py_files/config.yaml\n"
     ]
    }
   ],
   "source": [
    "\n",
    "# Загрузить конфигурацию\n",
    "config = config_loader.load_config()\n",
    "\n",
    "# Обновить параметры\n",
    "params_to_update = {\n",
    "    \"Cs\": Cs,\n",
    "    \"D\": D,\n",
    "    \"L_pore\": L_pore,\n",
    "    \"L_wall\": L_wall,\n",
    "    \"N\": N,\n",
    "    \"S\": S,\n",
    "    \"chi_solv\": chi_solv,\n",
    "    \"chi_surf\": chi_surf,\n",
    "    \"max_val\": 0.1,\n",
    "    \"min_val\": 0.1,\n",
    "    \"output_dir\": \"2D_pore_in_files_fig2\",\n",
    "    \"range_param\": 'Cs',\n",
    "    \"space\": space,\n",
    "    \"target_dir\": \"/home/tpopova/prj/PB_SCF/08_2D_pore/scf_templates\",\n",
    "    \"valence\": valence,\n",
    "}\n",
    "\n",
    "for param, value in params_to_update.items():\n",
    "    config = config_loader.update_config_param(config, param, value)\n",
    "\n",
    "# Сохранить обновлённую конфигурацию\n",
    "config_loader.save_config(config)\n"
   ]
  },
  {
   "cell_type": "markdown",
   "metadata": {},
   "source": [
    "# Расчет"
   ]
  },
  {
   "cell_type": "code",
   "execution_count": 12,
   "metadata": {},
   "outputs": [
    {
     "name": "stderr",
     "output_type": "stream",
     "text": [
      "INFO:root:Конфигурация успешно загружена из /home/tpopova/prj/PB_SCF/08_2D_pore/py_files/config.yaml\n",
      "INFO:root:Файл 2D_eps_80_Cs_0_0010_L150_0_L_wall_30_0_space_30_0_v_-0_50_D_75_N_100_theta_942_48.in успешно создан в 2D_pore_in_files_fig2\n"
     ]
    },
    {
     "name": "stdout",
     "output_type": "stream",
     "text": [
      "Problem nr 1 out of 1\n",
      "The program is compiled for the use of 'long double' while 'overflow_protection' is not requested for;\n",
      "1. Turn on 'overflow_protection'.\n",
      "2. Compile progrem without the #define 'LongReal' in namics.h. \n",
      "DIIS has been notified\n",
      "Your guess = 1.209891e+01 \n",
      "iterations = 1 g = 1.074973e+01 \n",
      "iterations = 2 g = 9.635942e+00 \n",
      "iterations = 3 g = 7.094195e+00 \n",
      "iterations = 4 g = 6.680307e+00 \n",
      "iterations = 5 g = 5.753046e+00 \n",
      "iterations = 6 g = 5.590239e+00 \n",
      "iterations = 7 g = 6.305601e+00 \n",
      "iterations = 8 g = 5.247349e+00 \n",
      "iterations = 9 g = 5.441974e+00 \n",
      "iterations = 10 g = 5.941614e+00 \n",
      "iterations = 11 g = 6.174809e+00 \n",
      "iterations = 12 g = 5.216531e+00 \n",
      "iterations = 13 g = 5.935741e+00 \n",
      "iterations = 14 g = 5.343562e+00 \n",
      "iterations = 15 g = 5.094794e+00 \n",
      "iterations = 16 g = 4.724249e+00 \n",
      "iterations = 17 g = 4.648646e+00 \n",
      "iterations = 18 g = 5.062287e+00 \n",
      "iterations = 19 g = 5.149659e+00 \n",
      "iterations = 20 g = 5.864719e+00 \n",
      "iterations = 21 g = 5.439550e+00 \n",
      "iterations = 22 g = 5.225724e+00 \n",
      "iterations = 23 g = 5.355392e+00 \n",
      "iterations = 24 g = 4.946179e+00 \n",
      "iterations = 25 g = 4.839119e+00 \n",
      "iterations = 26 g = 4.548749e+00 \n",
      "iterations = 27 g = 4.452430e+00 \n",
      "iterations = 28 g = 4.377077e+00 \n",
      "iterations = 29 g = 4.328236e+00 \n",
      "iterations = 30 g = 4.866568e+00 \n",
      "iterations = 31 g = 5.005944e+00 \n",
      "iterations = 32 g = 4.858836e+00 \n",
      "iterations = 33 g = 4.722308e+00 \n",
      "iterations = 34 g = 4.893513e+00 \n",
      "iterations = 35 g = 4.847238e+00 \n",
      "iterations = 36 g = 4.445571e+00 \n",
      "iterations = 37 g = 4.822651e+00 \n",
      "iterations = 38 g = 4.155403e+00 \n",
      "iterations = 39 g = 4.130125e+00 \n",
      "iterations = 40 g = 4.029797e+00 \n",
      "iterations = 41 g = 4.002589e+00 \n",
      "iterations = 42 g = 4.029778e+00 \n",
      "iterations = 43 g = 3.924252e+00 \n",
      "iterations = 44 g = 3.861640e+00 \n",
      "iterations = 45 g = 3.840338e+00 \n",
      "iterations = 46 g = 3.848423e+00 \n",
      "iterations = 47 g = 3.734851e+00 \n",
      "iterations = 48 g = 3.775460e+00 \n",
      "iterations = 49 g = 3.785831e+00 \n",
      "iterations = 50 g = 3.675002e+00 \n",
      "iterations = 51 g = 3.604839e+00 \n",
      "iterations = 52 g = 4.278886e+00 \n",
      "iterations = 53 g = 3.698799e+00 \n",
      "iterations = 54 g = 4.006925e+00 \n",
      "iterations = 55 g = 4.212301e+00 \n",
      "iterations = 56 g = 3.618218e+00 \n",
      "iterations = 57 g = 3.534377e+00 \n",
      "iterations = 58 g = 3.440152e+00 \n",
      "iterations = 59 g = 3.407377e+00 \n",
      "iterations = 60 g = 3.386036e+00 \n",
      "iterations = 61 g = 3.344137e+00 \n",
      "iterations = 62 g = 3.306717e+00 \n",
      "iterations = 63 g = 3.281717e+00 \n",
      "iterations = 64 g = 3.385898e+00 \n",
      "iterations = 65 g = 3.257795e+00 \n",
      "iterations = 66 g = 3.161170e+00 \n",
      "iterations = 67 g = 3.140201e+00 \n",
      "iterations = 68 g = 3.117859e+00 \n",
      "iterations = 69 g = 3.071155e+00 \n",
      "iterations = 70 g = 3.030680e+00 \n",
      "iterations = 71 g = 3.025523e+00 \n",
      "iterations = 72 g = 3.107579e+00 \n",
      "iterations = 73 g = 3.008239e+00 \n",
      "iterations = 74 g = 2.944665e+00 \n",
      "iterations = 75 g = 2.839243e+00 \n",
      "iterations = 76 g = 3.168276e+00 \n",
      "iterations = 77 g = 2.770615e+00 \n",
      "iterations = 78 g = 2.744190e+00 \n",
      "iterations = 79 g = 2.704963e+00 \n",
      "iterations = 80 g = 3.326384e+00 \n",
      "iterations = 81 g = 3.193186e+00 \n",
      "iterations = 82 g = 3.069058e+00 \n",
      "iterations = 83 g = 3.375861e+00 \n",
      "iterations = 84 g = 2.647593e+00 \n",
      "iterations = 85 g = 2.609958e+00 \n",
      "iterations = 86 g = 2.593809e+00 \n",
      "iterations = 87 g = 2.574999e+00 \n",
      "iterations = 88 g = 2.521257e+00 \n",
      "iterations = 89 g = 2.508292e+00 \n",
      "iterations = 90 g = 2.463391e+00 \n",
      "iterations = 91 g = 2.514058e+00 \n",
      "iterations = 92 g = 2.432971e+00 \n",
      "iterations = 93 g = 2.344492e+00 \n",
      "iterations = 94 g = 2.179305e+00 \n",
      "iterations = 95 g = 2.114955e+00 \n",
      "iterations = 96 g = 2.143434e+00 \n",
      "iterations = 97 g = 2.066036e+00 \n",
      "iterations = 98 g = 2.062169e+00 \n",
      "iterations = 99 g = 2.157443e+00 \n",
      "iterations = 100 g = 2.509587e+00 \n",
      "iterations = 101 g = 2.357286e+00 \n",
      "iterations = 102 g = 2.290165e+00 \n",
      "iterations = 103 g = 2.263674e+00 \n",
      "iterations = 104 g = 1.875329e+00 \n",
      "iterations = 105 g = 1.822052e+00 \n",
      "iterations = 106 g = 1.753239e+00 \n",
      "iterations = 107 g = 1.683667e+00 \n",
      "iterations = 108 g = 1.662253e+00 \n",
      "iterations = 109 g = 1.624196e+00 \n",
      "iterations = 110 g = 1.554913e+00 \n",
      "iterations = 111 g = 1.440812e+00 \n",
      "iterations = 112 g = 1.366399e+00 \n",
      "iterations = 113 g = 1.304177e+00 \n",
      "iterations = 114 g = 1.229720e+00 \n",
      "iterations = 115 g = 1.183010e+00 \n",
      "iterations = 116 g = 1.150275e+00 \n",
      "iterations = 117 g = 1.109458e+00 \n",
      "iterations = 118 g = 1.035875e+00 \n",
      "iterations = 119 g = 1.006802e+00 \n",
      "iterations = 120 g = 9.847090e-01 \n",
      "iterations = 121 g = 9.554807e-01 \n",
      "iterations = 122 g = 8.997068e-01 \n",
      "iterations = 123 g = 8.606540e-01 \n",
      "iterations = 124 g = 8.311049e-01 \n",
      "iterations = 125 g = 8.103999e-01 \n",
      "iterations = 126 g = 7.613694e-01 \n",
      "iterations = 127 g = 7.411017e-01 \n",
      "iterations = 128 g = 6.904474e-01 \n",
      "iterations = 129 g = 6.725360e-01 \n",
      "iterations = 130 g = 6.213381e-01 \n",
      "iterations = 131 g = 6.014917e-01 \n",
      "iterations = 132 g = 5.756804e-01 \n",
      "iterations = 133 g = 5.586139e-01 \n",
      "iterations = 134 g = 5.466432e-01 \n",
      "iterations = 135 g = 5.236916e-01 \n",
      "iterations = 136 g = 5.138550e-01 \n",
      "iterations = 137 g = 4.750854e-01 \n",
      "iterations = 138 g = 4.707892e-01 \n",
      "iterations = 139 g = 4.579796e-01 \n",
      "iterations = 140 g = 4.287566e-01 \n",
      "iterations = 141 g = 4.210320e-01 \n",
      "iterations = 142 g = 4.007284e-01 \n",
      "iterations = 143 g = 3.952310e-01 \n",
      "iterations = 144 g = 3.827982e-01 \n",
      "iterations = 145 g = 3.666125e-01 \n",
      "iterations = 146 g = 3.607298e-01 \n",
      "iterations = 147 g = 3.512128e-01 \n",
      "iterations = 148 g = 3.489041e-01 \n",
      "iterations = 149 g = 3.286419e-01 \n",
      "iterations = 150 g = 3.238172e-01 \n",
      "iterations = 151 g = 3.184759e-01 \n",
      "iterations = 152 g = 3.060004e-01 \n",
      "iterations = 153 g = 3.042745e-01 \n",
      "iterations = 154 g = 2.979679e-01 \n",
      "iterations = 155 g = 2.960737e-01 \n",
      "iterations = 156 g = 2.927780e-01 \n",
      "iterations = 157 g = 2.879984e-01 \n",
      "iterations = 158 g = 2.847727e-01 \n",
      "iterations = 159 g = 2.816820e-01 \n",
      "iterations = 160 g = 2.735197e-01 \n",
      "iterations = 161 g = 2.711615e-01 \n",
      "iterations = 162 g = 2.593983e-01 \n",
      "iterations = 163 g = 2.530077e-01 \n",
      "iterations = 164 g = 2.505763e-01 \n",
      "iterations = 165 g = 2.470608e-01 \n",
      "iterations = 166 g = 2.385868e-01 \n",
      "iterations = 167 g = 2.334825e-01 \n",
      "iterations = 168 g = 2.303241e-01 \n",
      "iterations = 169 g = 2.288346e-01 \n",
      "iterations = 170 g = 2.271375e-01 \n",
      "iterations = 171 g = 2.237535e-01 \n",
      "iterations = 172 g = 2.222079e-01 \n",
      "iterations = 173 g = 2.167209e-01 \n",
      "iterations = 174 g = 2.141692e-01 \n",
      "iterations = 175 g = 2.121470e-01 \n",
      "iterations = 176 g = 2.015784e-01 \n",
      "iterations = 177 g = 1.994562e-01 \n",
      "iterations = 178 g = 1.892229e-01 \n",
      "iterations = 179 g = 1.879754e-01 \n",
      "iterations = 180 g = 1.853154e-01 \n",
      "iterations = 181 g = 1.845917e-01 \n",
      "iterations = 182 g = 1.800871e-01 \n",
      "iterations = 183 g = 1.763075e-01 \n",
      "iterations = 184 g = 1.752026e-01 \n",
      "iterations = 185 g = 1.707739e-01 \n",
      "iterations = 186 g = 1.666338e-01 \n",
      "iterations = 187 g = 1.654510e-01 \n",
      "iterations = 188 g = 1.601938e-01 \n",
      "iterations = 189 g = 1.584606e-01 \n",
      "iterations = 190 g = 1.567463e-01 \n",
      "iterations = 191 g = 1.516309e-01 \n",
      "iterations = 192 g = 1.503126e-01 \n",
      "iterations = 193 g = 1.476395e-01 \n",
      "iterations = 194 g = 1.464940e-01 \n",
      "iterations = 195 g = 1.448807e-01 \n",
      "iterations = 196 g = 1.442210e-01 \n",
      "iterations = 197 g = 1.434029e-01 \n",
      "iterations = 198 g = 1.422356e-01 \n",
      "iterations = 199 g = 1.413861e-01 \n",
      "iterations = 200 g = 1.359249e-01 \n",
      "iterations = 201 g = 1.351800e-01 \n",
      "iterations = 202 g = 1.325429e-01 \n",
      "iterations = 203 g = 1.281426e-01 \n",
      "iterations = 204 g = 1.273702e-01 \n",
      "iterations = 205 g = 1.246639e-01 \n",
      "iterations = 206 g = 1.226630e-01 \n",
      "iterations = 207 g = 1.222397e-01 \n",
      "iterations = 208 g = 1.198540e-01 \n",
      "iterations = 209 g = 1.192073e-01 \n",
      "iterations = 210 g = 1.172628e-01 \n",
      "iterations = 211 g = 1.161786e-01 \n",
      "iterations = 212 g = 1.156088e-01 \n",
      "iterations = 213 g = 1.150335e-01 \n",
      "iterations = 214 g = 1.133991e-01 \n",
      "iterations = 215 g = 1.123446e-01 \n",
      "iterations = 216 g = 1.120134e-01 \n",
      "iterations = 217 g = 1.107188e-01 \n",
      "iterations = 218 g = 1.103906e-01 \n",
      "iterations = 219 g = 1.094194e-01 \n",
      "iterations = 220 g = 1.091919e-01 \n",
      "iterations = 221 g = 1.084102e-01 \n",
      "iterations = 222 g = 1.081653e-01 \n",
      "iterations = 223 g = 1.071148e-01 \n",
      "iterations = 224 g = 1.067213e-01 \n",
      "iterations = 225 g = 1.061303e-01 \n",
      "iterations = 226 g = 1.052361e-01 \n",
      "iterations = 227 g = 1.047564e-01 \n",
      "iterations = 228 g = 1.027457e-01 \n",
      "iterations = 229 g = 1.020947e-01 \n",
      "iterations = 230 g = 1.019209e-01 \n",
      "iterations = 231 g = 1.007986e-01 \n",
      "iterations = 232 g = 1.004650e-01 \n",
      "iterations = 233 g = 1.001246e-01 \n",
      "iterations = 234 g = 9.971960e-02 \n",
      "iterations = 235 g = 9.942668e-02 \n",
      "iterations = 236 g = 9.83"
     ]
    },
    {
     "name": "stderr",
     "output_type": "stream",
     "text": [
      "ERROR:root:Ошибка при выполнении NAMICS: Command '['namics', '/home/tpopova/prj/PB_SCF/08_2D_pore/scf_templates/2D_pore_in_files_fig2/2D_eps_80_Cs_0_0010_L150_0_L_wall_30_0_space_30_0_v_-0_50_D_75_N_100_theta_942_48.in']' died with <Signals.SIGKILL: 9>.\n"
     ]
    },
    {
     "ename": "CalledProcessError",
     "evalue": "Command '['namics', '/home/tpopova/prj/PB_SCF/08_2D_pore/scf_templates/2D_pore_in_files_fig2/2D_eps_80_Cs_0_0010_L150_0_L_wall_30_0_space_30_0_v_-0_50_D_75_N_100_theta_942_48.in']' died with <Signals.SIGKILL: 9>.",
     "output_type": "error",
     "traceback": [
      "\u001b[0;31m---------------------------------------------------------------------------\u001b[0m",
      "\u001b[0;31mCalledProcessError\u001b[0m                        Traceback (most recent call last)",
      "Cell \u001b[0;32mIn[12], line 1\u001b[0m\n\u001b[0;32m----> 1\u001b[0m df, x, y, psi, phi_brush, phi_end_brush \u001b[38;5;241m=\u001b[39m \u001b[43mout_reader\u001b[49m\u001b[43m(\u001b[49m\u001b[43m)\u001b[49m\n",
      "File \u001b[0;32m~/prj/PB_SCF/08_2D_pore/py_files/out_reader.py:9\u001b[0m, in \u001b[0;36mout_reader\u001b[0;34m(valence)\u001b[0m\n\u001b[1;32m      8\u001b[0m \u001b[38;5;28;01mdef\u001b[39;00m \u001b[38;5;21mout_reader\u001b[39m(valence\u001b[38;5;241m=\u001b[39m\u001b[38;5;241m-\u001b[39m\u001b[38;5;241m0.5\u001b[39m):\n\u001b[0;32m----> 9\u001b[0m     cleaned_file_path \u001b[38;5;241m=\u001b[39m \u001b[43mcount_pro\u001b[49m\u001b[43m(\u001b[49m\u001b[38;5;241;43m*\u001b[39;49m\u001b[38;5;241;43m*\u001b[39;49m\u001b[43mconfig\u001b[49m\u001b[43m)\u001b[49m\n\u001b[1;32m     11\u001b[0m     \u001b[38;5;28;01mdef\u001b[39;00m \u001b[38;5;21madd_combined_profile_to_file\u001b[39m(file_path):\n\u001b[1;32m     12\u001b[0m         df \u001b[38;5;241m=\u001b[39m pd\u001b[38;5;241m.\u001b[39mread_csv(file_path, sep\u001b[38;5;241m=\u001b[39m\u001b[38;5;124m'\u001b[39m\u001b[38;5;130;01m\\t\u001b[39;00m\u001b[38;5;124m'\u001b[39m)\n",
      "File \u001b[0;32m~/prj/PB_SCF/08_2D_pore/py_files/count_pro.py:18\u001b[0m, in \u001b[0;36mcount_pro\u001b[0;34m(range_param, min_val, max_val, output_dir, target_dir, D, L_pore, L_wall, space, N, S, Cs, valence, chi_surf, chi_solv, epsilon_surf)\u001b[0m\n\u001b[1;32m     16\u001b[0m \u001b[38;5;66;03m# Запуск NAMICS\u001b[39;00m\n\u001b[1;32m     17\u001b[0m \u001b[38;5;28;01mtry\u001b[39;00m:\n\u001b[0;32m---> 18\u001b[0m     \u001b[43msubprocess\u001b[49m\u001b[38;5;241;43m.\u001b[39;49m\u001b[43mcheck_call\u001b[49m\u001b[43m(\u001b[49m\u001b[43m[\u001b[49m\u001b[38;5;124;43m'\u001b[39;49m\u001b[38;5;124;43mnamics\u001b[39;49m\u001b[38;5;124;43m'\u001b[39;49m\u001b[43m,\u001b[49m\u001b[43m \u001b[49m\u001b[43mos\u001b[49m\u001b[38;5;241;43m.\u001b[39;49m\u001b[43mpath\u001b[49m\u001b[38;5;241;43m.\u001b[39;49m\u001b[43mabspath\u001b[49m\u001b[43m(\u001b[49m\u001b[43mfile_in_path\u001b[49m\u001b[43m)\u001b[49m\u001b[43m]\u001b[49m\u001b[43m)\u001b[49m\n\u001b[1;32m     19\u001b[0m \u001b[38;5;28;01mexcept\u001b[39;00m subprocess\u001b[38;5;241m.\u001b[39mCalledProcessError \u001b[38;5;28;01mas\u001b[39;00m e:\n\u001b[1;32m     20\u001b[0m     logging\u001b[38;5;241m.\u001b[39merror(\u001b[38;5;124mf\u001b[39m\u001b[38;5;124m\"\u001b[39m\u001b[38;5;124mОшибка при выполнении NAMICS: \u001b[39m\u001b[38;5;132;01m{\u001b[39;00me\u001b[38;5;132;01m}\u001b[39;00m\u001b[38;5;124m\"\u001b[39m)\n",
      "File \u001b[0;32m/usr/lib/python3.12/subprocess.py:413\u001b[0m, in \u001b[0;36mcheck_call\u001b[0;34m(*popenargs, **kwargs)\u001b[0m\n\u001b[1;32m    411\u001b[0m     \u001b[38;5;28;01mif\u001b[39;00m cmd \u001b[38;5;129;01mis\u001b[39;00m \u001b[38;5;28;01mNone\u001b[39;00m:\n\u001b[1;32m    412\u001b[0m         cmd \u001b[38;5;241m=\u001b[39m popenargs[\u001b[38;5;241m0\u001b[39m]\n\u001b[0;32m--> 413\u001b[0m     \u001b[38;5;28;01mraise\u001b[39;00m CalledProcessError(retcode, cmd)\n\u001b[1;32m    414\u001b[0m \u001b[38;5;28;01mreturn\u001b[39;00m \u001b[38;5;241m0\u001b[39m\n",
      "\u001b[0;31mCalledProcessError\u001b[0m: Command '['namics', '/home/tpopova/prj/PB_SCF/08_2D_pore/scf_templates/2D_pore_in_files_fig2/2D_eps_80_Cs_0_0010_L150_0_L_wall_30_0_space_30_0_v_-0_50_D_75_N_100_theta_942_48.in']' died with <Signals.SIGKILL: 9>."
     ]
    }
   ],
   "source": [
    "df, x, y, psi, phi_brush, phi_end_brush = out_reader()"
   ]
  },
  {
   "cell_type": "markdown",
   "metadata": {},
   "source": [
    "# Построение графика"
   ]
  },
  {
   "cell_type": "code",
   "execution_count": 6,
   "metadata": {},
   "outputs": [],
   "source": [
    "# Доли от центра для y\n",
    "y_fraction = [0]\n",
    "\n",
    "# Используем функцию для получения значений по доле\n",
    "psi_nam = get_profiles_by_y_or_x(df, y_fraction, profiles_name='sys_noname_psi', groupby='y', coord='x', use_fraction=True)\n",
    "phi_nam = get_profiles_by_y_or_x(df, y_fraction, profiles_name='combined_phi', groupby='y', coord='x', use_fraction=True)"
   ]
  },
  {
   "cell_type": "code",
   "execution_count": 7,
   "metadata": {},
   "outputs": [
    {
     "name": "stderr",
     "output_type": "stream",
     "text": [
      "<>:9: SyntaxWarning: invalid escape sequence '\\ '\n",
      "<>:9: SyntaxWarning: invalid escape sequence '\\ '\n",
      "/tmp/ipykernel_2908329/3954090205.py:9: SyntaxWarning: invalid escape sequence '\\ '\n",
      "  plt.title(\"$Профили \\ \\\\psi \\ vs \\ x \\ для \\ выбранных \\ y$\")\n"
     ]
    },
    {
     "data": {
      "image/png": "[encoded data removed]",
      "text/plain": [
       "<Figure size 640x480 with 1 Axes>"
      ]
     },
     "metadata": {},
     "output_type": "display_data"
    }
   ],
   "source": [
    "# Построение графиков\n",
    "for y_val, data in psi_nam.items():\n",
    "    plt.plot(data['x'], data['sys_noname_psi'], label=f\"$y = {y_val}, space = {space}, wall = {L_wall}$\")\n",
    "    \n",
    "plt.plot(np.hstack((r_in_dendrons, r_out_dendrons)), np.hstack((psi_in_dendrons, psi_out_dendrons)), linestyle = '--', label = f'$C_s = {Cs}, L_{{pore}} = {L_pore}, D = {D}, S = {S}, N = {N}$')\n",
    "\n",
    "plt.xlabel(\"x\")\n",
    "plt.ylabel(\"$\\\\psi$\")\n",
    "plt.title(\"$Профили \\ \\\\psi \\ vs \\ x \\ для \\ выбранных \\ y$\")\n",
    "plt.legend()\n",
    "plt.grid()\n",
    "plt.show()"
   ]
  },
  {
   "cell_type": "markdown",
   "metadata": {},
   "source": [
    "# Электростатический потенциал"
   ]
  },
  {
   "cell_type": "code",
   "execution_count": null,
   "metadata": {},
   "outputs": [],
   "source": [
    "# Построение графиков\n",
    "for y_val, data in phi_nam.items():\n",
    "    plt.plot(data['x'], data['combined_phi'], label=f\"$y = {y_val}, space = {space}, wall = {L_wall}$\")\n",
    "    \n",
    "plt.plot(r_in_dendrons, c_pol_dendrons, linestyle = '--', label = f'$C_s = {Cs}, L_{{pore}} = {L_pore}, D = {D}, S = {S}, N = {N}$')\n",
    "\n",
    "plt.xlabel(\"x\")\n",
    "plt.ylabel(\"$\\\\psi$\")\n",
    "plt.title(\"$Профили \\ \\\\psi \\ vs \\ x \\ для \\ выбранных \\ y$\")\n",
    "plt.legend()\n",
    "plt.grid()\n",
    "plt.show()"
   ]
  },
  {
   "cell_type": "markdown",
   "metadata": {},
   "source": []
  }
 ],
 "metadata": {
  "kernelspec": {
   "display_name": ".venv",
   "language": "python",
   "name": "python3"
  },
  "language_info": {
   "codemirror_mode": {
    "name": "ipython",
    "version": 3
   },
   "file_extension": ".py",
   "mimetype": "text/x-python",
   "name": "python",
   "nbconvert_exporter": "python",
   "pygments_lexer": "ipython3",
   "version": "3.12.3"
  }
 },
 "nbformat": 4,
 "nbformat_minor": 2
}
