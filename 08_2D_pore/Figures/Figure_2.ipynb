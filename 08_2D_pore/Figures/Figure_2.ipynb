{
 "cells": [
  {
   "cell_type": "code",
   "execution_count": 1,
   "metadata": {},
   "outputs": [
    {
     "name": "stderr",
     "output_type": "stream",
     "text": [
      "INFO:root:Конфигурация успешно загружена из /home/tpopova/prj/PB_SCF/08_2D_pore/py_files/config.yaml\n"
     ]
    }
   ],
   "source": [
    "import sys\n",
    "import numpy as np\n",
    "import matplotlib.pyplot as plt\n",
    "from scipy.interpolate import griddata\n",
    "\n",
    "sys.path.append('/home/tpopova/prj/PB_SCF/08_2D_pore/py_files')\n",
    "sys.path.append('/home/tpopova/prj/PB_SCF/01_dendrone_pore/py_files')\n",
    "\n",
    "import config_loader\n",
    "from out_reader import out_reader, get_profiles_by_y_or_x\n",
    "from dendrons_pore import dendrons_pore"
   ]
  },
  {
   "cell_type": "markdown",
   "metadata": {},
   "source": [
    "# График сравнения теории и намикса: электростатический потенциал"
   ]
  },
  {
   "cell_type": "markdown",
   "metadata": {},
   "source": [
    "Параметры"
   ]
  },
  {
   "cell_type": "code",
   "execution_count": 2,
   "metadata": {},
   "outputs": [],
   "source": [
    "N = 50\n",
    "S = 50\n",
    "D = 50\n",
    "valence = -0.5\n",
    "\n",
    "# Для 2D\n",
    "L_pore = 130\n",
    "space = 10\n",
    "L_wall = 30\n",
    "\n",
    "Cs = 0.005\n",
    "chi_solv = 0.5\n",
    "chi_surf = 0"
   ]
  },
  {
   "cell_type": "markdown",
   "metadata": {},
   "source": [
    "# Теория"
   ]
  },
  {
   "cell_type": "code",
   "execution_count": 3,
   "metadata": {},
   "outputs": [
    {
     "name": "stdout",
     "output_type": "stream",
     "text": [
      "50 314.1592653589793\n"
     ]
    }
   ],
   "source": [
    "N, n, theta, _, r_in_dendrons, r_out_dendrons, psi_in_dendrons, psi_out_dendrons, c_pol_dendrons, _ = dendrons_pore(\n",
    "    Cs = Cs,\n",
    "    \n",
    "    #параметры щетки\n",
    "    alpha = abs(valence),\n",
    "    S = S,\n",
    "    \n",
    "    #параметры поры\n",
    "    D = D,\n",
    "    N_opt = N,\n",
    "    \n",
    ")\n",
    "\n",
    "print(N, theta)"
   ]
  },
  {
   "cell_type": "markdown",
   "metadata": {},
   "source": [
    "# Namics 2D"
   ]
  },
  {
   "cell_type": "code",
   "execution_count": 4,
   "metadata": {},
   "outputs": [
    {
     "name": "stderr",
     "output_type": "stream",
     "text": [
      "INFO:root:Конфигурация успешно загружена из /home/tpopova/prj/PB_SCF/08_2D_pore/py_files/config.yaml\n",
      "INFO:root:Обновление параметра Cs на 0.005\n",
      "INFO:root:Обновление параметра D на 50\n",
      "INFO:root:Обновление параметра L_pore на 130\n",
      "INFO:root:Обновление параметра L_wall на 30\n",
      "INFO:root:Обновление параметра N на 50\n",
      "INFO:root:Обновление параметра S на 50\n",
      "INFO:root:Обновление параметра chi_solv на 0.5\n",
      "INFO:root:Обновление параметра chi_surf на 0\n",
      "INFO:root:Обновление параметра max_val на 0.1\n",
      "INFO:root:Обновление параметра min_val на 0.1\n",
      "INFO:root:Обновление параметра output_dir на 2D_pore_in_files_fig2\n",
      "INFO:root:Обновление параметра range_param на Cs\n",
      "INFO:root:Обновление параметра space на 10\n",
      "INFO:root:Обновление параметра target_dir на /home/tpopova/prj/PB_SCF/08_2D_pore/scf_templates\n",
      "INFO:root:Обновление параметра valence на -0.5\n",
      "INFO:root:Конфигурация успешно сохранена в /home/tpopova/prj/PB_SCF/08_2D_pore/py_files/config.yaml\n"
     ]
    }
   ],
   "source": [
    "\n",
    "# Загрузить конфигурацию\n",
    "config = config_loader.load_config()\n",
    "\n",
    "# Обновить параметры\n",
    "params_to_update = {\n",
    "    \"Cs\": Cs,\n",
    "    \"D\": D,\n",
    "    \"L_pore\": L_pore,\n",
    "    \"L_wall\": L_wall,\n",
    "    \"N\": N,\n",
    "    \"S\": S,\n",
    "    \"chi_solv\": chi_solv,\n",
    "    \"chi_surf\": chi_surf,\n",
    "    \"max_val\": 0.1,\n",
    "    \"min_val\": 0.1,\n",
    "    \"output_dir\": \"2D_pore_in_files_fig2\",\n",
    "    \"range_param\": 'Cs',\n",
    "    \"space\": space,\n",
    "    \"target_dir\": \"/home/tpopova/prj/PB_SCF/08_2D_pore/scf_templates\",\n",
    "    \"valence\": valence,\n",
    "}\n",
    "\n",
    "for param, value in params_to_update.items():\n",
    "    config = config_loader.update_config_param(config, param, value)\n",
    "\n",
    "# Сохранить обновлённую конфигурацию\n",
    "config_loader.save_config(config)\n"
   ]
  },
  {
   "cell_type": "markdown",
   "metadata": {},
   "source": [
    "# Расчет"
   ]
  },
  {
   "cell_type": "code",
   "execution_count": 5,
   "metadata": {},
   "outputs": [
    {
     "name": "stderr",
     "output_type": "stream",
     "text": [
      "INFO:root:Конфигурация успешно загружена из /home/tpopova/prj/PB_SCF/08_2D_pore/py_files/config.yaml\n",
      "INFO:root:Файл 2D_Cs_0_0050_L130_0_L_wall_30_0_space_10_0_v_-0_50_D_50_N_50_theta_314_16.in успешно создан в 2D_pore_in_files_fig2\n"
     ]
    },
    {
     "name": "stdout",
     "output_type": "stream",
     "text": [
      "Problem nr 1 out of 1\n",
      "The program is compiled for the use of 'long double' while 'overflow_protection' is not requested for;\n",
      "1. Turn on 'overflow_protection'.\n",
      "2. Compile progrem without the #define 'LongReal' in namics.h. \n",
      "NEWTON has been notified.\n"
     ]
    },
    {
     "name": "stderr",
     "output_type": "stream",
     "text": [
      "ERROR:root:Ошибка при выполнении NAMICS: Command '['namics', '/home/tpopova/prj/PB_SCF/08_2D_pore/scf_templates/2D_pore_in_files_fig2/2D_Cs_0_0050_L130_0_L_wall_30_0_space_10_0_v_-0_50_D_50_N_50_theta_314_16.in']' died with <Signals.SIGSEGV: 11>.\n"
     ]
    },
    {
     "ename": "CalledProcessError",
     "evalue": "Command '['namics', '/home/tpopova/prj/PB_SCF/08_2D_pore/scf_templates/2D_pore_in_files_fig2/2D_Cs_0_0050_L130_0_L_wall_30_0_space_10_0_v_-0_50_D_50_N_50_theta_314_16.in']' died with <Signals.SIGSEGV: 11>.",
     "output_type": "error",
     "traceback": [
      "\u001b[0;31m---------------------------------------------------------------------------\u001b[0m",
      "\u001b[0;31mCalledProcessError\u001b[0m                        Traceback (most recent call last)",
      "Cell \u001b[0;32mIn[5], line 1\u001b[0m\n\u001b[0;32m----> 1\u001b[0m df, x, y, psi, phi_brush, phi_end_brush \u001b[38;5;241m=\u001b[39m \u001b[43mout_reader\u001b[49m\u001b[43m(\u001b[49m\u001b[43m)\u001b[49m\n",
      "File \u001b[0;32m~/prj/PB_SCF/08_2D_pore/py_files/out_reader.py:9\u001b[0m, in \u001b[0;36mout_reader\u001b[0;34m(valence)\u001b[0m\n\u001b[1;32m      8\u001b[0m \u001b[38;5;28;01mdef\u001b[39;00m \u001b[38;5;21mout_reader\u001b[39m(valence\u001b[38;5;241m=\u001b[39m\u001b[38;5;241m-\u001b[39m\u001b[38;5;241m0.5\u001b[39m):\n\u001b[0;32m----> 9\u001b[0m     cleaned_file_path \u001b[38;5;241m=\u001b[39m \u001b[43mcount_pro\u001b[49m\u001b[43m(\u001b[49m\u001b[38;5;241;43m*\u001b[39;49m\u001b[38;5;241;43m*\u001b[39;49m\u001b[43mconfig\u001b[49m\u001b[43m)\u001b[49m\n\u001b[1;32m     11\u001b[0m     \u001b[38;5;28;01mdef\u001b[39;00m \u001b[38;5;21madd_combined_profile_to_file\u001b[39m(file_path):\n\u001b[1;32m     12\u001b[0m         df \u001b[38;5;241m=\u001b[39m pd\u001b[38;5;241m.\u001b[39mread_csv(file_path, sep\u001b[38;5;241m=\u001b[39m\u001b[38;5;124m'\u001b[39m\u001b[38;5;130;01m\\t\u001b[39;00m\u001b[38;5;124m'\u001b[39m)\n",
      "File \u001b[0;32m~/prj/PB_SCF/08_2D_pore/py_files/count_pro.py:18\u001b[0m, in \u001b[0;36mcount_pro\u001b[0;34m(range_param, min_val, max_val, output_dir, target_dir, D, L_pore, L_wall, space, N, S, Cs, valence, chi_surf, chi_solv)\u001b[0m\n\u001b[1;32m     16\u001b[0m \u001b[38;5;66;03m# Запуск NAMICS\u001b[39;00m\n\u001b[1;32m     17\u001b[0m \u001b[38;5;28;01mtry\u001b[39;00m:\n\u001b[0;32m---> 18\u001b[0m     \u001b[43msubprocess\u001b[49m\u001b[38;5;241;43m.\u001b[39;49m\u001b[43mcheck_call\u001b[49m\u001b[43m(\u001b[49m\u001b[43m[\u001b[49m\u001b[38;5;124;43m'\u001b[39;49m\u001b[38;5;124;43mnamics\u001b[39;49m\u001b[38;5;124;43m'\u001b[39;49m\u001b[43m,\u001b[49m\u001b[43m \u001b[49m\u001b[43mos\u001b[49m\u001b[38;5;241;43m.\u001b[39;49m\u001b[43mpath\u001b[49m\u001b[38;5;241;43m.\u001b[39;49m\u001b[43mabspath\u001b[49m\u001b[43m(\u001b[49m\u001b[43mfile_in_path\u001b[49m\u001b[43m)\u001b[49m\u001b[43m]\u001b[49m\u001b[43m)\u001b[49m\n\u001b[1;32m     19\u001b[0m \u001b[38;5;28;01mexcept\u001b[39;00m subprocess\u001b[38;5;241m.\u001b[39mCalledProcessError \u001b[38;5;28;01mas\u001b[39;00m e:\n\u001b[1;32m     20\u001b[0m     logging\u001b[38;5;241m.\u001b[39merror(\u001b[38;5;124mf\u001b[39m\u001b[38;5;124m\"\u001b[39m\u001b[38;5;124mОшибка при выполнении NAMICS: \u001b[39m\u001b[38;5;132;01m{\u001b[39;00me\u001b[38;5;132;01m}\u001b[39;00m\u001b[38;5;124m\"\u001b[39m)\n",
      "File \u001b[0;32m/usr/lib/python3.12/subprocess.py:413\u001b[0m, in \u001b[0;36mcheck_call\u001b[0;34m(*popenargs, **kwargs)\u001b[0m\n\u001b[1;32m    411\u001b[0m     \u001b[38;5;28;01mif\u001b[39;00m cmd \u001b[38;5;129;01mis\u001b[39;00m \u001b[38;5;28;01mNone\u001b[39;00m:\n\u001b[1;32m    412\u001b[0m         cmd \u001b[38;5;241m=\u001b[39m popenargs[\u001b[38;5;241m0\u001b[39m]\n\u001b[0;32m--> 413\u001b[0m     \u001b[38;5;28;01mraise\u001b[39;00m CalledProcessError(retcode, cmd)\n\u001b[1;32m    414\u001b[0m \u001b[38;5;28;01mreturn\u001b[39;00m \u001b[38;5;241m0\u001b[39m\n",
      "\u001b[0;31mCalledProcessError\u001b[0m: Command '['namics', '/home/tpopova/prj/PB_SCF/08_2D_pore/scf_templates/2D_pore_in_files_fig2/2D_Cs_0_0050_L130_0_L_wall_30_0_space_10_0_v_-0_50_D_50_N_50_theta_314_16.in']' died with <Signals.SIGSEGV: 11>."
     ]
    }
   ],
   "source": [
    "df, x, y, psi, phi_brush, phi_end_brush = out_reader()"
   ]
  },
  {
   "cell_type": "markdown",
   "metadata": {},
   "source": [
    "# Построение графика"
   ]
  },
  {
   "cell_type": "code",
   "execution_count": 6,
   "metadata": {},
   "outputs": [],
   "source": [
    "# Доли от центра для y\n",
    "y_fraction = [0]\n",
    "\n",
    "# Используем функцию для получения значений по доле\n",
    "result = get_profiles_by_y_or_x(df, y_fraction, profiles_name='sys_noname_psi', groupby='y', coord='x', use_fraction=True)"
   ]
  },
  {
   "cell_type": "code",
   "execution_count": 7,
   "metadata": {},
   "outputs": [
    {
     "name": "stderr",
     "output_type": "stream",
     "text": [
      "<>:9: SyntaxWarning: invalid escape sequence '\\ '\n",
      "<>:9: SyntaxWarning: invalid escape sequence '\\ '\n",
      "/tmp/ipykernel_2908329/3954090205.py:9: SyntaxWarning: invalid escape sequence '\\ '\n",
      "  plt.title(\"$Профили \\ \\\\psi \\ vs \\ x \\ для \\ выбранных \\ y$\")\n"
     ]
    },
    {
     "data": {
      "image/png": "[encoded data removed]",
      "text/plain": [
       "<Figure size 640x480 with 1 Axes>"
      ]
     },
     "metadata": {},
     "output_type": "display_data"
    }
   ],
   "source": [
    "# Построение графиков\n",
    "for y_val, data in result.items():\n",
    "    plt.plot(data['x'], data['sys_noname_psi'], label=f\"$y = {y_val}, space = {space}, wall = {L_wall}$\")\n",
    "    \n",
    "plt.plot(np.hstack((r_in_dendrons, r_out_dendrons)), np.hstack((psi_in_dendrons, psi_out_dendrons)), linestyle = '--', label = f'$C_s = {Cs}, L_{{pore}} = {L_pore}, D = {D}, S = {S}, N = {N}$')\n",
    "\n",
    "plt.xlabel(\"x\")\n",
    "plt.ylabel(\"$\\\\psi$\")\n",
    "plt.title(\"$Профили \\ \\\\psi \\ vs \\ x \\ для \\ выбранных \\ y$\")\n",
    "plt.legend()\n",
    "plt.grid()\n",
    "plt.show()"
   ]
  }
 ],
 "metadata": {
  "kernelspec": {
   "display_name": ".venv",
   "language": "python",
   "name": "python3"
  },
  "language_info": {
   "codemirror_mode": {
    "name": "ipython",
    "version": 3
   },
   "file_extension": ".py",
   "mimetype": "text/x-python",
   "name": "python",
   "nbconvert_exporter": "python",
   "pygments_lexer": "ipython3",
   "version": "3.12.3"
  }
 },
 "nbformat": 4,
 "nbformat_minor": 2
}
