{
 "cells": [
  {
   "cell_type": "code",
   "execution_count": 2,
   "metadata": {},
   "outputs": [
    {
     "name": "stdout",
     "output_type": "stream",
     "text": [
      "sfbox version 2.1.0.0 date: 2015-7913\n",
      "Checking inputfile /home/tpopova/prj/PB_SCF/08_2D_pore/scf_templates/r=26_s=52_h=40_l1=120_l2=120_chi_PS=0_5_chi_PW=0_N=300_sigma=0_03.in for errors\n"
     ]
    },
    {
     "name": "stdout",
     "output_type": "stream",
     "text": [
      "no errors found in /home/tpopova/prj/PB_SCF/08_2D_pore/scf_templates/r=26_s=52_h=40_l1=120_l2=120_chi_PS=0_5_chi_PW=0_N=300_sigma=0_03.in\n",
      "Here we go...\n",
      "iterate 34384\n",
      "NEWTON has been notified.\n",
      "Residual error:\n",
      "Your guess:i= 0  4.35542e+00  |g|=1.99219e+01\n",
      "hessian scaling: 3.49e-02\n",
      "i= 1  4.42579e+01  |g|=1.96556e+01  alpha=1.84e-02\n",
      "i= 2  1.98812e+01  |g|=1.90851e+01  alpha=3.34e-03\n",
      "i= 3  2.19640e+01  |g|=1.90913e+01  alpha=1.37e-02\n",
      "i= 4  1.54501e+01  |g|=1.88724e+01  alpha=6.60e-03\n",
      "i= 5  1.11430e+01  |g|=1.78839e+01  alpha=1.64e-02\n",
      "i= 6  1.45065e+01  |g|=1.83598e+01  alpha=2.61e-02\n",
      "i= 7  1.46316e+01  |g|=1.75492e+01  alpha=1.30e-02\n",
      "i= 8  1.35091e+01  |g|=1.74150e+01  alpha=1.22e-02\n",
      "i= 9  1.40131e+01  |g|=1.75525e+01  alpha=1.28e-02\n",
      "i= 10  1.00917e+01  |g|=1.70460e+01  alpha=7.21e-03\n",
      "i= 11  8.95968e+00  |g|=1.68673e+01  alpha=1.98e-02\n",
      "i= 12  9.23483e+00  |g|=1.63875e+01  alpha=2.29e-02\n",
      "i= 13  8.46892e+00  |g|=1.61240e+01  alpha=1.95e-02\n",
      "i= 14  8.41924e+00  |g|=1.59119e+01  alpha=2.14e-02\n",
      "i= 15  8.30114e+00  |g|=1.56974e+01  alpha=2.00e-02\n",
      "i= 16  7.56943e+00  |g|=1.51388e+01  alpha=1.92e-02\n",
      "i= 17  7.00023e+00  |g|=1.50514e+01  alpha=2.10e-02\n",
      "i= 18  6.25544e+00  |g|=1.47447e+01  alpha=2.33e-02\n",
      "i= 19  5.97326e+00  |g|=1.42843e+01  alpha=2.75e-02\n",
      "i= 20  6.01985e+00  |g|=1.41151e+01  alpha=2.79e-02\n",
      "i= 21  6.00830e+00  |g|=1.40053e+01  alpha=2.60e-02\n",
      "i= 22  5.83407e+00  |g|=1.33904e+01  alpha=2.50e-02\n",
      "i= 23  5.30817e+00  |g|=1.27163e+01  alpha=2.43e-02\n",
      "i= 24  4.21754e+00  |g|=1.23780e+01  alpha=2.68e-02\n",
      "i= 25  4.51235e+00  |g|=1.23440e+01  alpha=3.99e-02\n",
      "i= 26  4.11255e+00  |g|=1.20217e+01  alpha=3.34e-02\n",
      "i= 27  3.90733e+00  |g|=1.17004e+01  alpha=3.80e-02\n",
      "i= 28  4.15193e+00  |g|=1.12856e+01  alpha=3.97e-02\n",
      "i= 29  3.76581e+00  |g|=1.06377e+01  alpha=3.29e-02\n",
      "i= 30  3.32597e+00  |g|=9.86562e+00  alpha=3.65e-02\n",
      "i= 31  2.90277e+00  |g|=9.50072e+00  alpha=4.21e-02\n",
      "i= 32  2.74381e+00  |g|=9.45923e+00  alpha=5.16e-02\n",
      "i= 33  2.67289e+00  |g|=9.44402e+00  alpha=5.60e-02\n",
      "i= 34  2.76793e+00  |g|=9.04739e+00  alpha=5.74e-02\n",
      "i= 35  2.58262e+00  |g|=8.43005e+00  alpha=4.99e-02\n",
      "i= 36  2.31027e+00  |g|=7.47154e+00  alpha=5.21e-02\n",
      "i= 37  1.87611e+00  |g|=6.90694e+00  alpha=5.63e-02\n",
      "i= 38  1.76567e+00  |g|=6.86229e+00  alpha=7.20e-02\n",
      "i= 39  1.71472e+00  |g|=6.92501e+00  alpha=8.07e-02\n",
      "i= 40  1.76783e+00  |g|=6.81370e+00  alpha=8.85e-02\n",
      "i= 41  1.64992e+00  |g|=6.14998e+00  alpha=7.31e-02\n",
      "i= 42  1.45459e+00  |g|=5.09364e+00  alpha=6.43e-02\n",
      "i= 43  1.17536e+00  |g|=4.95167e+00  alpha=7.22e-02\n",
      "i= 44  1.12356e+00  |g|=4.79764e+00  alpha=7.31e-02\n",
      "i= 45  1.15996e+00  |g|=5.38066e+00  alpha=9.52e-02\n",
      "i= 46  1.12261e+00  |g|=4.77688e+00  alpha=8.30e-02\n",
      "i= 47  9.57164e-01  |g|=4.25040e+00  alpha=9.68e-02\n",
      "i= 48  9.35002e-01  |g|=3.84075e+00  alpha=1.05e-01\n",
      "i= 49  8.24815e-01  |g|=3.70312e+00  alpha=8.90e-02\n",
      "i= 50  6.74954e-01  |g|=2.99624e+00  alpha=8.59e-02\n",
      "i= 51  6.95671e-01  |g|=3.87480e+00  alpha=1.49e-01\n",
      "i= 52  6.63760e-01  |g|=3.61697e+00  alpha=8.83e-02\n",
      "i= 53  6.15312e-01  |g|=3.34044e+00  alpha=2.16e-01\n",
      "i= 54  6.16250e-01  |g|=3.21193e+00  alpha=1.50e-01\n",
      "i= 55  4.38593e-01  |g|=2.21238e+00  alpha=9.33e-02\n",
      "i= 56  4.30260e-01  |g|=2.86089e+00  alpha=1.72e-01\n",
      "i= 57  4.42344e-01  |g|=2.72365e+00  alpha=8.87e-02\n",
      "i= 58  3.49203e-01  |g|=2.52658e+00  alpha=3.13e-01\n",
      "i= 59  3.29946e-01  |g|=2.09046e+00  alpha=2.11e-01\n",
      "i= 60  2.49771e-01  |g|=1.68549e+00  alpha=2.72e-01\n",
      "i= 61  2.32080e-01  |g|=1.40421e+00  alpha=2.89e-01\n",
      "i= 62  1.57400e-01  |g|=9.10165e-01  alpha=2.21e-01\n",
      "i= 63  1.40418e-01  |g|=1.03346e+00  alpha=2.50e-01\n",
      "i= 64  1.36817e-01  |g|=1.05773e+00  alpha=1.48e-01\n",
      "i= 65  1.51721e-01  |g|=1.30222e+00  alpha=4.87e-01\n",
      "i= 66  1.36904e-01  |g|=1.17657e+00  alpha=6.19e-01\n",
      "i= 67  1.97081e-01  |g|=1.99025e+00  alpha=1.00e+00\n",
      "i= 68  1.39097e-01  |g|=1.03363e+00  alpha=6.31e-01\n",
      "i= 69  8.29830e-02  |g|=5.21825e-01  alpha=2.50e-01  1 step\n",
      "i= 70  6.29757e-02  |g|=4.69115e-01  alpha=1.20e-01\n",
      "i= 71  9.55494e-02  |g|=9.20573e-01  alpha=5.90e-01\n",
      "i= 72  1.13506e-01  |g|=1.03200e+00  alpha=1.00e+00\n",
      "i= 73  1.12785e-01  |g|=1.00694e+00  alpha=1.00e+00\n",
      "i= 74  1.33880e-01  |g|=1.24341e+00  alpha=1.00e+00\n",
      "i= 75  7.96361e-02  |g|=6.32525e-01  alpha=2.50e-01  1 step\n",
      "i= 76  6.21964e-02  |g|=5.88947e-01  alpha=1.16e-01\n",
      "i= 77  5.44777e-02  |g|=5.59469e-01  alpha=2.89e-01\n",
      "i= 78  4.17380e-02  |g|=3.60748e-01  alpha=3.62e-01\n",
      "i= 79  6.42227e-02  |g|=6.95141e-01  alpha=1.00e+00\n",
      "i= 80  4.60476e-02  |g|=4.45807e-01  alpha=4.49e-01\n",
      "i= 81  3.03569e-02  |g|=2.72267e-01  alpha=2.50e-01  1 step\n",
      "i= 82  2.20707e-02  |g|=2.58728e-01  alpha=5.39e-02\n",
      "i= 83  1.79493e-02  |g|=1.82283e-01  alpha=4.88e-01\n",
      "i= 84  2.39248e-02  |g|=2.96873e-01  alpha=1.00e+00\n",
      "i= 85  1.87648e-02  |g|=1.86846e-01  alpha=2.71e-01\n",
      "i= 86  2.95965e-02  |g|=4.61204e-01  alpha=1.00e+00\n",
      "i= 87  2.23965e-02  |g|=2.30561e-01  alpha=1.00e+00\n",
      "^C\n"
     ]
    }
   ],
   "source": [
    "!sfbox \"/home/tpopova/prj/PB_SCF/08_2D_pore/scf_templates/r=26_s=52_h=40_l1=120_l2=120_chi_PS=0_5_chi_PW=0_N=300_sigma=0_03.in\""
   ]
  },
  {
   "cell_type": "code",
   "execution_count": null,
   "metadata": {},
   "outputs": [],
   "source": [
    "import matplotlib.pyplot as plt"
   ]
  }
 ],
 "metadata": {
  "kernelspec": {
   "display_name": ".venv",
   "language": "python",
   "name": "python3"
  },
  "language_info": {
   "codemirror_mode": {
    "name": "ipython",
    "version": 3
   },
   "file_extension": ".py",
   "mimetype": "text/x-python",
   "name": "python",
   "nbconvert_exporter": "python",
   "pygments_lexer": "ipython3",
   "version": "3.12.3"
  }
 },
 "nbformat": 4,
 "nbformat_minor": 2
}
