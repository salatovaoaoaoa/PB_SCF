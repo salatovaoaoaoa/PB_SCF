{
 "cells": [
  {
   "cell_type": "code",
   "execution_count": 3,
   "metadata": {},
   "outputs": [
    {
     "data": {
      "text/plain": [
       "3.0"
      ]
     },
     "execution_count": 3,
     "metadata": {},
     "output_type": "execute_result"
    }
   ],
   "source": [
    "pow(9,1/2)"
   ]
  },
  {
   "cell_type": "code",
   "execution_count": 172,
   "metadata": {},
   "outputs": [
    {
     "name": "stdout",
     "output_type": "stream",
     "text": [
      "Problem nr 1 out of 1\n",
      "The program is compiled for the use of 'long double' while 'overflow_protection' is not requested for;\n",
      "1. Turn on 'overflow_protection'.\n",
      "2. Compile progrem without the #define 'LongReal' in namics.h. \n",
      "Warning: deltamax found twice.... 0.1 is used!\n",
      "NEWTON has been notified.\n",
      "Your guess:it =  0  E = 6.133424e-01 |g| = 8.296304e-01 alpha = 1.000000e+00 \n",
      "hessian scaling: 1.18556\n",
      "it =  1  E = 5.365605e-01 |g| = 6.984075e-01 alpha = 2.205356e-01 \n",
      "it =  2  E = 6.287975e-01 |g| = 7.057163e-01 alpha = 1.526597e-01 \n",
      "it =  3  E = 1.439011e+00 |g| = 6.564868e-01 alpha = 2.506166e-02 \n",
      "it =  4  E = 8.594739e-01 |g| = 6.588277e-01 alpha = 6.577317e-02 \n",
      "it =  5  E = 2.281532e+00 |g| = 6.149347e-01 alpha = 8.137308e-03 \n",
      "it =  6  E = 7.711095e-01 |g| = 6.283960e-01 alpha = 6.855420e-02 \n",
      "it =  7  E = 1.837448e+00 |g| = 6.697186e-01 alpha = 1.370552e-02 \n",
      "it =  8  E = 9.253000e-01 |g| = 6.804219e-01 alpha = 5.173728e-02 \n",
      "it =  9  E = 3.072885e+00 |g| = 7.000893e-01 alpha = 5.133304e-03 \n",
      "it =  10  E = 1.422749e+00 |g| = 6.945351e-01 alpha = 2.235737e-02 \n",
      "it =  11  E = 1.988498e+00 |g| = 6.818055e-01 alpha = 1.059082e-02 \n",
      "it =  12  E = 1.488448e+00 |g| = 6.699157e-01 alpha = 1.755300e-02 \n",
      "it =  13  E = 1.407708e+00 |g| = 6.560185e-01 alpha = 1.821072e-02 \n",
      "it =  14  E = 1.250126e+00 |g| = 6.414234e-01 alpha = 2.145277e-02 \n",
      "it =  15  E = 1.148239e+00 |g| = 6.262643e-01 alpha = 2.365261e-02 \n",
      "it =  16  E = 1.066155e+00 |g| = 6.115114e-01 alpha = 2.558405e-02 \n",
      "it =  17  E = 1.023013e+00 |g| = 5.975811e-01 alpha = 2.599290e-02 \n",
      "it =  18  E = 1.002803e+00 |g| = 5.845687e-01 alpha = 2.538268e-02 \n",
      "it =  19  E = 9.937109e-01 |g| = 5.722493e-01 alpha = 2.431688e-02 \n",
      "it =  20  E = 9.823343e-01 |g| = 5.604308e-01 alpha = 2.345657e-02 \n",
      "it =  21  E = 9.667910e-01 |g| = 5.489458e-01 alpha = 2.286554e-02 \n",
      "it =  22  E = 9.464001e-01 |g| = 5.376991e-01 alpha = 2.256020e-02 \n",
      "it =  23  E = 9.232485e-01 |g| = 5.266218e-01 alpha = 2.243795e-02 \n",
      "it =  24  E = 8.980733e-01 |g| = 5.156800e-01 alpha = 2.246668e-02 \n",
      "it =  25  E = 8.722611e-01 |g| = 5.048500e-01 alpha = 2.258239e-02 \n",
      "it =  26  E = 8.461778e-01 |g| = 4.941224e-01 alpha = 2.276975e-02 \n",
      "it =  27  E = 8.204571e-01 |g| = 4.834894e-01 alpha = 2.299690e-02 \n",
      "it =  28  E = 7.951373e-01 |g| = 4.729477e-01 alpha = 2.326201e-02 \n",
      "it =  29  E = 7.704375e-01 |g| = 4.624917e-01 alpha = 2.355198e-02 \n",
      "it =  30  E = 7.462594e-01 |g| = 4.521167e-01 alpha = 2.387180e-02 \n",
      "it =  31  E = 7.226517e-01 |g| = 4.418158e-01 alpha = 2.421760e-02 \n",
      "it =  32  E = 6.995045e-01 |g| = 4.315818e-01 alpha = 2.459604e-02 \n",
      "it =  33  E = 6.768221e-01 |g| = 4.214065e-01 alpha = 2.500670e-02 \n",
      "it =  34  E = 6.545291e-01 |g| = 4.112818e-01 alpha = 2.545535e-02 \n",
      "it =  35  E = 6.326278e-01 |g| = 4.011995e-01 alpha = 2.594261e-02 \n",
      "it =  36  E = 6.110762e-01 |g| = 3.911520e-01 alpha = 2.647301e-02 \n",
      "it =  37  E = 5.898784e-01 |g| = 3.811316e-01 alpha = 2.704784e-02 \n",
      "it =  38  E = 5.690123e-01 |g| = 3.711317e-01 alpha = 2.767109e-02 \n",
      "it =  39  E = 5.484801e-01 |g| = 3.611459e-01 alpha = 2.834497e-02 \n",
      "it =  40  E = 5.282688e-01 |g| = 3.511682e-01 alpha = 2.907363e-02 \n",
      "it =  41  E = 5.083775e-01 |g| = 3.411933e-01 alpha = 2.986053e-02 \n",
      "it =  42  E = 4.887969e-01 |g| = 3.312160e-01 alpha = 3.071060e-02 \n",
      "it =  43  E = 4.695232e-01 |g| = 3.212317e-01 alpha = 3.162883e-02 \n",
      "it =  44  E = 4.505488e-01 |g| = 3.112357e-01 alpha = 3.262144e-02 \n",
      "it =  45  E = 4.318683e-01 |g| = 3.012240e-01 alpha = 3.369533e-02 \n"
     ]
    },
    {
     "name": "stdout",
     "output_type": "stream",
     "text": [
      "it =  46  E = 4.134750e-01 |g| = 2.911925e-01 alpha = 3.485865e-02 \n",
      "it =  47  E = 3.953626e-01 |g| = 2.811374e-01 alpha = 3.612075e-02 \n",
      "it =  48  E = 3.775248e-01 |g| = 2.710551e-01 alpha = 3.749253e-02 \n",
      "it =  49  E = 3.599557e-01 |g| = 2.609420e-01 alpha = 3.898673e-02 \n",
      "it =  50  E = 3.426491e-01 |g| = 2.507948e-01 alpha = 4.061825e-02 \n",
      "it =  51  E = 3.255993e-01 |g| = 2.406104e-01 alpha = 4.240467e-02 \n",
      "it =  52  E = 3.088009e-01 |g| = 2.303857e-01 alpha = 4.436682e-02 \n",
      "it =  53  E = 2.922484e-01 |g| = 2.201178e-01 alpha = 4.652959e-02 \n",
      "it =  54  E = 2.759368e-01 |g| = 2.098041e-01 alpha = 4.892292e-02 \n",
      "it =  55  E = 2.598612e-01 |g| = 1.994420e-01 alpha = 5.158313e-02 \n",
      "it =  56  E = 2.440170e-01 |g| = 1.890293e-01 alpha = 5.455476e-02 \n",
      "it =  57  E = 2.283999e-01 |g| = 1.785640e-01 alpha = 5.789293e-02 \n",
      "it =  58  E = 2.130058e-01 |g| = 1.680444e-01 alpha = 6.166679e-02 \n",
      "it =  59  E = 1.978309e-01 |g| = 1.574692e-01 alpha = 6.596417e-02 \n",
      "it =  60  E = 1.828717e-01 |g| = 1.468376e-01 alpha = 7.089843e-02 \n",
      "it =  61  E = 1.681252e-01 |g| = 1.361494e-01 alpha = 7.661835e-02 \n",
      "it =  62  E = 1.535889e-01 |g| = 1.254056e-01 alpha = 8.332327e-02 \n",
      "it =  63  E = 1.392609e-01 |g| = 1.146081e-01 alpha = 9.128639e-02 \n",
      "it =  64  E = 1.251404e-01 |g| = 1.037609e-01 alpha = 1.008926e-01 \n",
      "it =  65  E = 1.112284e-01 |g| = 9.287087e-02 alpha = 1.127018e-01 \n",
      "it =  66  E = 9.752840e-02 |g| = 8.194971e-02 alpha = 1.275615e-01 \n",
      "it =  67  E = 8.404839e-02 |g| = 7.101729e-02 alpha = 1.468179e-01 \n",
      "it =  68  E = 7.080515e-02 |g| = 6.010873e-02 alpha = 1.727465e-01 \n",
      "it =  69  E = 5.783320e-02 |g| = 4.929015e-02 alpha = 2.095193e-01 \n",
      "it =  70  E = 4.520797e-02 |g| = 3.869838e-02 alpha = 2.656993e-01 \n",
      "it =  71  E = 3.311200e-02 |g| = 2.865656e-02 alpha = 3.620688e-01 \n",
      "it =  72  E = 2.202522e-02 |g| = 2.005171e-02 alpha = 5.654334e-01 \n",
      "it =  73  E = 1.286624e-02 |g| = 1.553938e-02 alpha = 1.000000e+00 \n",
      "it =  74  E = 3.887742e-03 |g| = 1.451927e-02 alpha = 1.000000e+00 \n",
      "it =  75  E = 5.163351e-02 |g| = 1.359080e-02 alpha = 5.261190e-03 \n",
      "it =  76  E = 1.410686e-02 |g| = 8.940629e-03 alpha = 2.998416e-01 \n",
      "it =  77  E = 4.090048e-03 |g| = 7.704804e-03 alpha = 1.000000e+00 \n",
      "it =  78  E = 6.625408e-03 |g| = 9.176609e-03 alpha = 6.107917e-01 \n",
      "it =  79  E = 8.235438e-03 |g| = 7.412033e-03 alpha = 3.569601e-01 \n",
      "it =  80  E = 5.836238e-03 |g| = 6.316622e-03 alpha = 1.000000e+00 \n",
      "it =  81  E = 2.344660e-03 |g| = 5.904310e-03 alpha = 1.000000e+00 \n",
      "it =  82  E = 1.717930e-03 |g| = 5.504077e-03 alpha = 1.000000e+00 \n",
      "it =  83  E = 1.798084e-03 |g| = 4.861891e-03 alpha = 1.000000e+00 \n",
      "it =  84  E = 3.969009e-03 |g| = 3.592868e-03 alpha = 4.461440e-01 \n",
      "it =  85  E = 3.143935e-03 |g| = 3.679386e-03 alpha = 1.000000e+00 \n",
      "it =  86  E = 8.749063e-04 |g| = 3.266379e-03 alpha = 1.000000e+00 \n",
      "it =  87  E = 2.583029e-03 |g| = 2.870244e-03 alpha = 1.270775e-01 \n",
      "it =  88  E = 1.822886e-03 |g| = 1.962127e-03 alpha = 1.000000e+00 \n",
      "it =  89  E = 8.464200e-04 |g| = 1.752878e-03 alpha = 1.000000e+00 \n",
      "it =  90  E = 9.156421e-04 |g| = 1.568004e-03 alpha = 1.000000e+00 \n",
      "it =  91  E = 5.234151e-04 |g| = 1.380897e-03 alpha = 1.000000e+00 \n",
      "it =  92  E = 1.299390e-03 |g| = 1.563129e-03 alpha = 2.255704e-01 \n",
      "it =  93  E = 8.873501e-04 |g| = 1.279236e-03 alpha = 4.981388e-01 \n",
      "it =  94  E = 6.373399e-04 |g| = 9.371565e-04 alpha = 1.000000e+00 \n",
      "it =  95  E = 3.804320e-04 |g| = 8.077456e-04 alpha = 1.000000e+00 \n",
      "it =  96  E = 6.536980e-04 |g| = 7.045360e-04 alpha = 6.254766e-01 \n",
      "it =  97  E = 3.671105e-04 |g| = 6.765609e-04 alpha = 1.000000e+00 \n",
      "it =  98  E = 3.241518e-04 |g| = 6.158781e-04 alpha = 1.000000e+00 \n",
      "it =  99  E = 2.247539e-04 |g| = 5.583213e-04 alpha = 1.000000e+00 \n",
      "it =  100  E = 1.428129e-04 |g| = 4.913480e-04 alpha = 1.000000e+00 \n",
      "it =  101  E = 3.529981e-04 |g| = 3.845442e-04 alpha = 3.514162e-01 \n",
      "it =  102  E = 3.171492e-04 |g| = 3.818668e-04 alpha = 1.000000e+00 \n",
      "it =  103  E = 1.013846e-04 |g| = 3.378727e-04 alpha = 1.000000e+00 \n",
      "it =  104  E = 1.735043e-04 |g| = 2.728833e-04 alpha = 4.186139e-01 \n",
      "it =  105  E = 2.701105e-04 |g| = 2.899535e-04 alpha = 7.860832e-01 \n",
      "it =  106  E = 7.499623e-05 |g| = 2.240376e-04 alpha = 1.000000e+00 \n",
      "it =  107  E = 1.546581e-04 |g| = 3.065953e-04 alpha = 6.341388e-01 \n",
      "it =  108  E = 1.309539e-04 |g| = 2.016666e-04 alpha = 6.322604e-01 \n",
      "it =  109  E = 6.392776e-05 |g| = 1.478913e-04 alpha = 1.000000e+00 \n",
      "it =  110  E = 4.844245e-05 |g| = 1.339860e-04 alpha = 1.000000e+00 \n",
      "it =  111  E = 1.202214e-04 |g| = 1.271507e-04 alpha = 8.263707e-01 \n",
      "it =  112  E = 2.993101e-05 |g| = 1.074008e-04 alpha = 1.000000e+00 \n",
      "it =  113  E = 4.743814e-05 |g| = 8.678209e-05 alpha = 3.867644e-01 \n",
      "it =  114  E = 5.087399e-05 |g| = 8.899301e-05 alpha = 1.000000e+00 \n",
      "it =  115  E = 7.002452e-05 |g| = 9.798796e-05 alpha = 1.000000e+00 \n",
      "it =  116  E = 3.496254e-05 |g| = 6.481104e-05 alpha = 1.000000e+00 \n",
      "it =  117  E = 1.891942e-05 |g| = 5.893655e-05 alpha = 1.000000e+00 \n",
      "it =  118  E = 8.939555e-05 |g| = 5.611176e-05 alpha = 4.771323e-02 \n",
      "it =  119  E = 2.316447e-05 |g| = 4.753685e-05 alpha = 1.000000e+00 \n",
      "it =  120  E = 1.518258e-05 |g| = 4.036930e-05 alpha = 1.000000e+00 \n",
      "it =  121  E = 2.289619e-05 |g| = 3.306122e-05 alpha = 7.876436e-01 \n",
      "it =  122  E = 4.329174e-05 |g| = 4.499652e-05 alpha = 4.389799e-01 \n",
      "it =  123  E = 5.015738e-05 |g| = 3.199020e-05 alpha = 1.879253e-01 \n",
      "it =  124  E = 3.963048e-05 |g| = 4.492342e-05 alpha = 1.000000e+00 \n",
      "it =  125  E = 1.529822e-05 |g| = 3.201934e-05 alpha = 1.000000e+00 \n",
      "it =  126  E = 9.124239e-06 |g| = 2.493471e-05 alpha = 1.000000e+00 \n",
      "it =  127  E = 7.719916e-06 |g| = 2.045949e-05 alpha = 1.000000e+00 \n",
      "it =  128  E = 8.910749e-06 |g| = 1.684142e-05 alpha = 1.000000e+00 \n",
      "it =  129  E = 7.593878e-06 |g| = 1.881813e-05 alpha = 1.000000e+00 \n",
      "it =  130  E = 6.997679e-06 |g| = 1.726017e-05 alpha = 1.000000e+00 \n",
      "it =  131  E = 1.846923e-05 |g| = 1.870911e-05 alpha = 8.731077e-01 \n",
      "it =  132  E = 5.717898e-06 |g| = 1.460005e-05 alpha = 1.000000e+00 \n",
      "it =  133  E = 5.197049e-06 |g| = 1.420715e-05 alpha = 1.000000e+00 \n",
      "it =  134  E = 7.330778e-06 |g| = 1.365046e-05 alpha = 1.000000e+00 \n",
      "it =  135  E = 3.938906e-06 |g| = 1.216047e-05 alpha = 1.000000e+00 \n",
      "it =  136  E = 9.448541e-06 |g| = 1.086486e-05 alpha = 1.933137e-01 \n",
      "it =  137  E = 1.706446e-05 |g| = 1.224611e-05 alpha = 3.271874e-01 \n",
      "it =  138  E = 4.851970e-06 |g| = 1.181052e-05 alpha = 1.000000e+00 \n",
      "it =  139  E = 2.957558e-06 |g| = 1.010417e-05 alpha = 1.000000e+00 \n",
      "it =  140  E = 4.033719e-06 |g| = 8.530260e-06 alpha = 5.683508e-01 \n",
      "it =  141  E = 5.277989e-06 |g| = 6.674398e-06 alpha = 1.000000e+00 \n",
      "it =  142  E = 2.966368e-06 |g| = 5.808597e-06 alpha = 1.000000e+00 \n",
      "it =  143  E = 7.099638e-06 |g| = 5.874801e-06 alpha = 4.740707e-01 \n",
      "it =  144  E = 3.088008e-06 |g| = 4.597323e-06 alpha = 1.000000e+00 \n",
      "it =  145  E = 1.482519e-06 |g| = 3.566236e-06 alpha = 1.000000e+00 \n",
      "it =  146  E = 2.381444e-06 |g| = 3.022491e-06 alpha = 2.689577e-01 \n",
      "it =  147  E = 5.583883e-06 |g| = 6.354603e-06 alpha = 5.817933e-01 \n",
      "it =  148  E = 3.557815e-06 |g| = 2.959543e-06 alpha = 6.484115e-01 \n",
      "it =  149  E = 1.232680e-06 |g| = 9.957416e-07 alpha = 1.000000e+00 \n",
      "it =  150  E = 2.468810e-07 |g| = 7.683112e-07 alpha = 1.000000e+00 \n",
      "it =  151  E = 6.054529e-07 |g| = 8.572556e-07 alpha = 1.140244e-01 \n",
      "it =  152  E = 6.230998e-07 |g| = 7.344480e-07 alpha = 1.215709e-01 \n",
      "it =  153  E = 3.454514e-07 |g| = 3.315876e-07 alpha = 1.000000e+00 \n",
      "it =  154  E = 9.801448e-08 |g| = 2.858105e-07 alpha = 1.000000e+00 \n",
      "it =  155  E = 1.270266e-07 |g| = 2.147940e-07 alpha = 4.160830e-01 \n",
      "it =  156  E = 6.333671e-08 |g| = 5.474310e-08 alpha = 1.000000e+00 \n",
      "it =  157  E = 2.842942e-08 |g| = 4.838785e-08 alpha = 1.000000e+00 \n",
      "it =  158  E = 2.108693e-08 |g| = 3.935663e-08 alpha = 4.459933e-01 \n",
      "it =  159  E = 1.584352e-08 |g| = 1.944497e-08 alpha = 1.000000e+00 \n",
      "it =  160  E = 6.221914e-09 |g| = 1.311606e-08 alpha = 1.000000e+00 \n",
      "Problem solved.\n",
      "That will do.\n",
      "free energy                 = -457.731\n",
      "grand potential             = -20.1174\n",
      "free energy     (GP + n*mu) = -457.731\n",
      "grand potential (F - n*mu)  = -20.1174\n",
      "\n",
      "MOL Na Fraction Na: 1=?=1 or 48.46 of 48.46\n",
      "MOL Cl Fraction Cl: 1=?=1 or 10.7608 of 10.7608\n",
      "MOL water Fraction W: 1=?=1 or 19971.6 of 19971.6\n",
      "MOL pol Fraction P: 0.993377=?=0.993377 or 74.8989 of 75.3982\n",
      "MOL pol Fraction P0: 0.00662252=?=0.00662252 or 0.499326 of 75.3982\n"
     ]
    }
   ],
   "source": [
    "import sys\n",
    "import os\n",
    "sys.path.append('/home/tpopova/prj/polymer_brush')\n",
    "\n",
    "from math import sqrt\n",
    "from math import exp\n",
    "from math import pi\n",
    "import math\n",
    "\n",
    "import numpy as np \n",
    "import pandas as pd\n",
    "\n",
    "import scipy.integrate as integrate \n",
    "from scipy.optimize import root\n",
    "import matplotlib.pyplot as plt\n",
    "\n",
    "from scipy.special import i0 \n",
    "from scipy.special import i1 \n",
    "!namics \"/home/tpopova/prj/PB_SCF/pore_templates/dendr_pore_template.in\""
   ]
  },
  {
   "cell_type": "code",
   "execution_count": 173,
   "metadata": {},
   "outputs": [
    {
     "name": "stdout",
     "output_type": "stream",
     "text": [
      "150 75.39822368615503\n"
     ]
    }
   ],
   "source": [
    "lb = 1\n",
    "Cs = 0.001\n",
    "alpha = 0.5\n",
    "n = 30\n",
    "q = 4\n",
    "D = 80\n",
    "S = 1000\n",
    "\n",
    "N = n * (1 + q)\n",
    "# N = n * (1 + q + q**2)\n",
    "\n",
    "l_t = S/(2*pi*D)\n",
    "\n",
    "#theta\n",
    "theta = N/l_t\n",
    "theta\n",
    "print(N,theta)"
   ]
  },
  {
   "cell_type": "code",
   "execution_count": 174,
   "metadata": {},
   "outputs": [],
   "source": [
    "\n",
    "# inverse Debye length\n",
    "K: float = sqrt(8 * pi * lb * Cs)\n",
    "\n",
    "k_coef = n**(-1) * math.atan(1/sqrt(q))\n",
    "H_0: float = sqrt(2/3) * (alpha**(1/2))/k_coef\n",
    "\n",
    "#dzeta b\n",
    "zeta_b: float = (2 * pi * D * lb * alpha * N)/S\n",
    "\n",
    "def find_h(h):\n",
    "\n",
    "    t_lambda = H_0/h\n",
    "\n",
    "    rho = h * (D/H_0 - h)\n",
    "\n",
    "    c_plus = (K*H_0/2)**2 * np.exp(h**2 + 2/(K*t_lambda) * i0((D-h*H_0)*K)/i1((D-h*H_0)*K))\\\n",
    "        * (D/H_0 * (integrate.quad(lambda t: np.exp(-t ** 2), 0, h)[0]) - (1 - np.exp(-1 * h**2))/2)\n",
    "\n",
    "    c_minus = (K*H_0/2)**2 * np.exp(-1 * h**2 - 2/(K*t_lambda) * i0((D-h*H_0)*K)/i1((D-h*H_0)*K))\\\n",
    "        * (D/H_0 * (integrate.quad(lambda t: np.exp(t ** 2), 0, h)[0]) - (np.exp(h**2) - 1)/2)\n",
    "        \n",
    "    return rho + c_plus - c_minus - zeta_b\n",
    "\n",
    "h_solution = root(lambda h: find_h(h), 0.01, method='lm')\n",
    "\n",
    "H = h_solution.x * H_0\n",
    "\n",
    "t_lambda_answ = H_0/h_solution.x\n",
    "\n",
    "def psi_out(r, tLambda, H_):\n",
    "        return -2/(K*tLambda) * (i0(r*K))/(i1((D-H_)*K))\n",
    "    \n",
    "def psi_in(r, tLambda, H_):\n",
    "    first = ((D-r)**2 - H_**2)/H_0**2\n",
    "    psi_H = -2/(K*tLambda) * (i0((D-H_)*K))/(i1((D-H_)*K))\n",
    "    return first + psi_H\n",
    "\n",
    "r_in_range = np.linspace(D, D-H[0], num = 500)\n",
    "r_out_range = np.linspace(D-H[0], 0, num = 500)\n",
    "\n",
    "psi_in_range = psi_in(r_in_range, t_lambda_answ, H)\n",
    "psi_out_range = psi_out(r_out_range, t_lambda_answ, H)"
   ]
  },
  {
   "cell_type": "code",
   "execution_count": 175,
   "metadata": {},
   "outputs": [],
   "source": [
    "data = pd.read_csv(\"/home/tpopova/prj/PB_SCF/pore_main/dendron_pore/output/dendr_pore_template.pro\", sep='\\t')['sys_noname_psi']"
   ]
  },
  {
   "cell_type": "code",
   "execution_count": 176,
   "metadata": {},
   "outputs": [
    {
     "data": {
      "text/plain": [
       "Text(0, 0.5, '$\\\\psi$')"
      ]
     },
     "execution_count": 176,
     "metadata": {},
     "output_type": "execute_result"
    },
    {
     "data": {
      "image/png": "[encoded data removed]",
      "text/plain": [
       "<Figure size 640x480 with 1 Axes>"
      ]
     },
     "metadata": {},
     "output_type": "display_data"
    }
   ],
   "source": [
    "plt.plot(data)\n",
    "plt.plot(np.hstack((r_in_range, r_out_range)), np.hstack((psi_in_range, psi_out_range)), linestyle = '--')\n",
    "plt.xlabel(\"r\")\n",
    "plt.ylabel(r'$\\psi$')"
   ]
  },
  {
   "cell_type": "code",
   "execution_count": 177,
   "metadata": {},
   "outputs": [],
   "source": [
    "spacers = n\n",
    "dendron_2_2 = f\"(Р0)1(P){spacers}[(P){spacers}[(P){spacers}][(P){spacers}](P){spacers}][(P){spacers}[(P){spacers}][(P){spacers}](P){spacers}](P){spacers}[(P){spacers}][(P){spacers}](P){spacers}\""
   ]
  },
  {
   "cell_type": "code",
   "execution_count": 178,
   "metadata": {},
   "outputs": [
    {
     "data": {
      "text/plain": [
       "'(Р0)1(P)30[(P)30[(P)30][(P)30](P)30][(P)30[(P)30][(P)30](P)30](P)30[(P)30][(P)30](P)30'"
      ]
     },
     "execution_count": 178,
     "metadata": {},
     "output_type": "execute_result"
    }
   ],
   "source": [
    "dendron_2_2"
   ]
  }
 ],
 "metadata": {
  "kernelspec": {
   "display_name": ".venv",
   "language": "python",
   "name": "python3"
  },
  "language_info": {
   "codemirror_mode": {
    "name": "ipython",
    "version": 3
   },
   "file_extension": ".py",
   "mimetype": "text/x-python",
   "name": "python",
   "nbconvert_exporter": "python",
   "pygments_lexer": "ipython3",
   "version": "3.12.3"
  }
 },
 "nbformat": 4,
 "nbformat_minor": 2
}
